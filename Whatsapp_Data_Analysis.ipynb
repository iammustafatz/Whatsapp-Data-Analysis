{
  "nbformat": 4,
  "nbformat_minor": 0,
  "metadata": {
    "colab": {
      "provenance": [],
      "collapsed_sections": [],
      "include_colab_link": true
    },
    "kernelspec": {
      "name": "python3",
      "display_name": "Python 3"
    },
    "language_info": {
      "name": "python"
    }
  },
  "cells": [
    {
      "cell_type": "markdown",
      "metadata": {
        "id": "view-in-github",
        "colab_type": "text"
      },
      "source": [
        "<a href=\"https://colab.research.google.com/github/iammustafatz/Whatsapp-Data-Analysis/blob/main/Whatsapp_Data_Analysis.ipynb\" target=\"_parent\"><img src=\"https://colab.research.google.com/assets/colab-badge.svg\" alt=\"Open In Colab\"/></a>"
      ]
    },
    {
      "cell_type": "code",
      "source": [
        "!git clone https://github.com/iammustafatz/Whatsapp-Data-Analysis.git"
      ],
      "metadata": {
        "colab": {
          "base_uri": "https://localhost:8080/"
        },
        "id": "T6N0QfGYnMVM",
        "outputId": "0227e63b-9ad1-4e52-8d93-4a0e982c38c4"
      },
      "execution_count": 1,
      "outputs": [
        {
          "output_type": "stream",
          "name": "stdout",
          "text": [
            "Cloning into 'Whatsapp-Data-Analysis'...\n",
            "remote: Enumerating objects: 6, done.\u001b[K\n",
            "remote: Counting objects: 100% (6/6), done.\u001b[K\n",
            "remote: Compressing objects: 100% (4/4), done.\u001b[K\n",
            "remote: Total 6 (delta 0), reused 0 (delta 0), pack-reused 0\u001b[K\n",
            "Unpacking objects: 100% (6/6), done.\n"
          ]
        }
      ]
    },
    {
      "cell_type": "markdown",
      "source": [
        "1.Find the list of unique members who has interacted at least once in this group."
      ],
      "metadata": {
        "id": "z-AFMRG_tv1y"
      }
    },
    {
      "cell_type": "code",
      "source": [
        "#reading file\n",
        "fhand = open('/content/Whatsapp-Data-Analysis/WhatsApp Chat with PGPDE May 2022.txt','r')\n",
        "y=\":\"\n",
        "unique_members=[] #making an array named unique_members\n",
        "for line in fhand:  #taking each line from the text file\n",
        "    line=line.rstrip() #removes spaces from each line at the right side \n",
        "    #slicing \n",
        "    mem1=line[16:] \n",
        "    mem2=line[17:]\n",
        "    mem3=line[18:]\n",
        "    if mem1.startswith(\"- \") or mem2.startswith(\"- \") or mem3.startswith(\"- \"):\n",
        "      a=line.find(\"- \") #finding index of - to slice\n",
        "      sub_line=line[a+2:] #slicing to make a sub line\n",
        "      if y in sub_line:\n",
        "        b=sub_line.find(\":\")\n",
        "        members=sub_line[:b] #slicing the sub line to get the members\n",
        "        if members not in unique_members: #if that member are not present in unique_members array\n",
        "          unique_members.append(members) #Then, store the member in unique_members array\n",
        "fhand.close() #closing file\n",
        "print(unique_members)"
      ],
      "metadata": {
        "colab": {
          "base_uri": "https://localhost:8080/"
        },
        "id": "M8vxukE_-7Eu",
        "outputId": "5b65d8e5-613c-41fa-a520-16e1abea3336"
      },
      "execution_count": 2,
      "outputs": [
        {
          "output_type": "stream",
          "name": "stdout",
          "text": [
            "['Praxis Praveena', 'Manasi', 'Lipsita Mohanty', 'Gireesh Warrier', 'Bhagyashri', 'iammustafatz', 'Kartik', 'Anoushka', 'Anandita', 'Shrutz', 'Mahima Mule', 'Sidharth Khurana', 'AjinkYa', 'Srikrishna', 'A A Nikam', 'Vipin Yadav', 'Pratiksha', 'Sushanta Saha', '+91 98367 72525', 'Mr. Nandi', 'Neha', 'Sanya Singhal', 'Riddhi']\n"
          ]
        }
      ]
    },
    {
      "cell_type": "markdown",
      "source": [
        "2.Design a function named conversation_by_date(file,date)that will help us to extract the entire conversation which happened on a particular date.As shown,this function should take two arguments:\n",
        "\n",
        "*   file: A text file that contains the WhatsApp chat conversation\n",
        "*   date: A date of interest DD/MM/YYYY format."
      ],
      "metadata": {
        "id": "z5sI2t0-PQN_"
      }
    },
    {
      "cell_type": "code",
      "source": [
        "def conversation_by_date(file,date):\n",
        "  #reading file\n",
        "  filename='/content/Whatsapp-Data-Analysis/'+file+'.txt'\n",
        "  fhand = open(filename,'r')\n",
        "  y=\":\"\n",
        "  whatsappchat={}   #making a dictionary named whatsappchat\n",
        "  for line in fhand:  #taking each line from the text file\n",
        "    #removes spaces from each line at the right side\n",
        "    line=line.rstrip()   \n",
        "    full_line=line.rstrip()\n",
        "    #slicing\n",
        "    mem1=line[16:]\n",
        "    mem2=line[17:]\n",
        "    mem3=line[18:]\n",
        "    if mem1.startswith(\"- \") or mem2.startswith(\"- \") or mem3.startswith(\"- \"):\n",
        "      a=line.find(\"- \") #finding index of - to slice\n",
        "      sub_line=line[a+2:] #slicing to make a sub_line\n",
        "      if y in sub_line:\n",
        "        conversation=sub_line # the sub_line is assigned as the conversation\n",
        "        dates=full_line.split(\",\",1) \n",
        "        dates=dates[0] #taking date from the line of the conversation\n",
        "        #checking whether the input date is same as the date extracted from the line, if satisfied it performs\n",
        "        if dates==date: \n",
        "        #making dates as keys and storing its conversation\n",
        "          if dates not in whatsappchat:\n",
        "            whatsappchat[dates]=[conversation]\n",
        "          else:\n",
        "            whatsappchat[dates]+=[conversation]\n",
        "  fhand.close() #closing file\n",
        "  #exception handling for checking whether conversations are on that date\n",
        "  try:\n",
        "    print(whatsappchat[date]) #prints the conversation made on that date\n",
        "  except:\n",
        "    print(\"There was no conversation made on that date\")\n",
        "#taking inputs from user\n",
        "file_input=input(\"Enter the file name: \")\n",
        "date_input=input(\"Enter the date in format DD/MM/YYYY: \")\n",
        "date_c=date_input[-2:]\n",
        "date_s=date_input.split(\"/\")\n",
        "date_i=date_s[1]+\"/\"+date_s[0]+\"/\"+date_c\n",
        "#calling the function conversation_by_date with parameters\n",
        "conversation_by_date(file_input,date_i)"
      ],
      "metadata": {
        "colab": {
          "base_uri": "https://localhost:8080/"
        },
        "id": "4_y8HaawPRMS",
        "outputId": "9cf4b8eb-9cdc-430a-8b5c-12fead9fff3d"
      },
      "execution_count": 3,
      "outputs": [
        {
          "output_type": "stream",
          "name": "stdout",
          "text": [
            "Enter the file name: WhatsApp Chat with PGPDE May 2022\n",
            "Enter the date in format DD/MM/YYYY: 26/5/2022\n",
            "['Praxis Praveena: did u check the mail', 'Praxis Praveena: regarding your commencement of classes', 'Manasi: Yes', 'Praxis Praveena: 28th May onwards your classes are starting', 'Lipsita Mohanty: Yes', 'Praxis Praveena: im updating your calendar', 'Manasi: @916360155028 ,', 'Praxis Praveena: Tuesday - 8 to 9.30 am and Thursdays 8 to 9.30 pm', 'Manasi: As we discussed in our orientation, my office time collides with this... You said you will look into it', 'Gireesh Warrier: I have been asked to report to office from Jun 15th onwards .  Since my shift timing is 2pm-11pm.   I won’t be able to attend any of the Tuesday sessions .    I have already communicated to you and looking for an update from your side as per our last communication', 'Gireesh Warrier: Acknowledging the email regarding commencement of classes on 28th', 'Gireesh Warrier: Sorry typo error -  Thursday sessions .', 'Manasi: @916360155028', 'Manasi: For those who will not be able to join weekdays classes due to office timings, please consider them present or it affect our grade', 'Praxis Praveena: Any concerns regarding weekdays attendance please send a mail', 'Praxis Praveena: Please confirm if you have received your Microsoft teams login credentials to your personal or praxis email id', 'Bhagyashri: Praxis email id and usernme received 👍', 'iammustafatz: Received my Praxis email id and username 👍', \"Kartik: Recieved emai I'd and username\", 'Praxis Praveena: Please attend classes in Microsoft Teams only using given Praxis credentials', 'Bhagyashri: 👍', 'Anoushka: Yes received', 'Anandita: Hi Praveena not received teams login', 'Kartik: 👍', 'Praxis Praveena: Please write a mail to me and Tapas sir', 'Praxis Praveena: Everyone please confirm', 'Manasi: Received', 'Praxis Praveena: before your class starts u need to have praxis Login credentials for Microsoft teams', 'Shrutz: Received', 'Praxis Praveena: I want every1 to confirm', 'Praxis Praveena: will sort it out today itself later on Saturday during class start time do not ask me for login credentials', 'Kartik: One more thing  where the documents we have to submit ?', \"Lipsita Mohanty: Hello ma'am\", 'Mahima Mule: Yes same not received teams credentials till now.', 'Sidharth Khurana: Received 👍', 'AjinkYa: Received', 'Praxis Praveena: Please check and let me know if you can view the assignments in Microsoft teams', \"Srikrishna: Haven't recieved ma'am, have sent a mail.\", 'A A Nikam: Received Microsoft praxis email ID and user name', \"Anoushka: No, can't view any assignments\", 'Praxis Praveena: k', \"Lipsita Mohanty: No ma'am\", 'Gireesh Warrier: Signed up MS Teams using praxis ID , but unable to see any assignments or calendar events', \"Kartik: No can't see any assignments\", 'Praxis Praveena: Can u please see now', 'Vipin Yadav: Yso', 'Praxis Praveena: ok', 'Praxis Praveena: Please fill the assignments before saturday', 'Gireesh Warrier: Yes,  now able to see assignments', 'Shrutz: @916360155028 not able to view the assignments', 'Praxis Praveena: please check once', \"Anoushka: I have been added to the class, but still can't see the assignments\", 'Mahima Mule: Not able to see assignments.', 'Shrutz: Same here', 'Sidharth Khurana: No , not able to see assignments', 'Praxis Praveena: k', 'Praxis Praveena: Please check now u can view the assignments', \"Vipin Yadav: Ma'am, weekday's classes are not updated on kk2 yet\", \"Srikrishna: Ma'am haven't recieved the Microsoft account credentials yet.\", \"Srikrishna: Ma'am got it👍\", 'Sidharth Khurana: Yes', \"Pratiksha: Didn't receive teams credentials\", 'Pratiksha: Sent mail for the same', 'Praxis Praveena: K']\n"
          ]
        }
      ]
    },
    {
      "cell_type": "markdown",
      "source": [
        "3.Design a function named conversation_by_person(file,person) that will help us to extract all the posts done by a particular person. As shown, this function should take two arguments:\n",
        "\n",
        "*   file: A text file that contains the WhatsApp chat conversation\n",
        "*   person: A person of interest\n"
      ],
      "metadata": {
        "id": "tRmgjUkdBQs6"
      }
    },
    {
      "cell_type": "code",
      "source": [
        "def conversation_by_person(file,person):\n",
        "  #reading file\n",
        "  filename='/content/Whatsapp-Data-Analysis/'+file+'.txt'\n",
        "  fhand = open(filename,'r')\n",
        "  y=\":\"\n",
        "  whatsappchat={} #making a dictionary named whatsappchat\n",
        "  for line in fhand: #taking each line from the text file\n",
        "    #removes spaces from each line at the right side\n",
        "    line=line.rstrip()\n",
        "    #slicing\n",
        "    mem1=line[16:]\n",
        "    mem2=line[17:]\n",
        "    mem3=line[18:]\n",
        "    if mem1.startswith(\"- \") or mem2.startswith(\"- \") or mem3.startswith(\"- \"):\n",
        "      a=line.find(\"- \") #finding index of - to slice\n",
        "      sub_line=line[a+2:] #slicing to make a sub_line\n",
        "      if y in sub_line:\n",
        "        b=sub_line.find(\":\")\n",
        "        conversation=sub_line[b+1:] # the sub_line is assigned as the conversation\n",
        "        members=sub_line[:b]        #slicing the sub line to get the members\n",
        "        if members==person:\n",
        "          #making members as keys and storing their conversations\n",
        "          if members not in whatsappchat:\n",
        "            whatsappchat[members]=[conversation]\n",
        "          else:\n",
        "            whatsappchat[members]+=[conversation]\n",
        "  fhand.close() #closing file\n",
        "  #exception handling for checking whether conversations are on that username\n",
        "  try:\n",
        "    print(whatsappchat[person])\n",
        "  except:\n",
        "    print(\"The input username is not available in this whatsapp group\")\n",
        "\n",
        "#taking inputs from user\n",
        "fileinput=input(\"Enter a file name: \")\n",
        "person_name=input(\"Enter a person name: \")\n",
        "#calling the function conversation_by_person with parameters\n",
        "conversation_by_person(fileinput,person_name)"
      ],
      "metadata": {
        "colab": {
          "base_uri": "https://localhost:8080/"
        },
        "id": "DDQWGZB2tuvH",
        "outputId": "612d608c-c6f4-4635-9350-b21e5a2eec96"
      },
      "execution_count": 4,
      "outputs": [
        {
          "output_type": "stream",
          "name": "stdout",
          "text": [
            "Enter a file name: WhatsApp Chat with PGPDE May 2022\n",
            "Enter a person name: Praxis Praveena\n",
            "[' did u check the mail', ' regarding your commencement of classes', ' 28th May onwards your classes are starting', ' im updating your calendar', ' Tuesday - 8 to 9.30 am and Thursdays 8 to 9.30 pm', ' Any concerns regarding weekdays attendance please send a mail', ' Please confirm if you have received your Microsoft teams login credentials to your personal or praxis email id', ' Please attend classes in Microsoft Teams only using given Praxis credentials', ' Please write a mail to me and Tapas sir', ' Everyone please confirm', ' before your class starts u need to have praxis Login credentials for Microsoft teams', ' I want every1 to confirm', ' will sort it out today itself later on Saturday during class start time do not ask me for login credentials', ' Please check and let me know if you can view the assignments in Microsoft teams', ' k', ' Can u please see now', ' ok', ' Please fill the assignments before saturday', ' please check once', ' k', ' Please check now u can view the assignments', ' K', ' For Registration documents , please rename the file name as -  (DE_Student Name_Registration)', ' Hi everyone,', ' Yes sir Anindita roy', ' Good morning everyone', ' Please join session in Microsoft teams now', ' Sunil,', ' Kindly wait', ' Professor started the session', ' Sir for KK session Sunil was not there', ' Will brief him tomorrow', ' I have informed him the schedule will be updated in calendar', ' The class timings on Tuesdays is 8 to 9.30 am and Thursdays is 8 to 9.30 pm', ' Yes', ' yes', ' yes', ' 1st, 3rd, 5th Saturday no classes', ' 1st session at 9am ADDS', \" Tuesday it's 8am to 9.30am\", ' Please check kk2.praxis.ac.in for schedule', \" It's changed you can view now\", ' Hi Everyone', ' Sunday 12th June 22 at 9am there is a quiz scheduled', ' Quiz on ADDS', ' Please check your calendar for updates', ' Please note - Quiz participation is mandatory', ' quiz marks are added to your final marks', ' Faculty will be joining now.', ' Hi Everyone ,', ' The Term - I courses has been shared with you in channels', ' Students,', ' Calendar is updated', ' Please join the 3pm class.  Professor is waiting', ' Please join fast', ' This message was deleted', ' Welcome Roadshow to the data engineering official whatsapp group', ' Please note the ADDS quiz is at 12.30pm tomorrow.', ' 12.30pm to 1.15pm', ' Nope', ' Prepare well for the quiz. All the best', ' K', ' K will check', ' Did you receive the responses', ' Hi Sanya,', ' Hi Everyone,', ' Dear Students,', ' Hi everyone,', ' DVL assignment please send a mail to Manoj sir', ' Okay. Will update you before the next class', ' Python class is rescheduled to next Thursday  14th July 22', ' This Saturday there is 2 quiz scheduled please check the calendar', ' Lipsita will be you new class rep.', ' Please join the rdwh quiz', \" Please check your calendar regular basis. Please  join now it's from 3 to 3.40pm\", ' Dear students,', ' SQLP quiz will start at 3pm.  Kindly acknowledge', ' Only 9 responses what about others?', ' Hi everyone,', ' Hi everyone,', ' Okay', ' Meeting with pgp office', \" Please join the meeting it's mandatory\", \" Today's RDWH and SQLP sessions is cancelled as prof.Saurabh sir has sudden emergency.\", ' Meeting with Prof.Gourab nath', ' Please join this meeting today at 9pm', ' Please join the meeting', \" It's mandatory\", ' Join fast', ' Please send me mail', ' Dear Students ,', ' AIS is accessible after 6pm', ' Please confirm once the feedback is shared', ' Okay will check']\n"
          ]
        }
      ]
    },
    {
      "cell_type": "markdown",
      "source": [
        "4.Which part of the day (AM or PM) does this group experience most conversation?"
      ],
      "metadata": {
        "id": "MgX4J4vFSTf2"
      }
    },
    {
      "cell_type": "code",
      "source": [
        "def  most_experience(file):\n",
        "  #reading file\n",
        "  filename='/content/Whatsapp-Data-Analysis/'+file+'.txt'\n",
        "  fhand = open(filename,'r')\n",
        "  y=\":\"\n",
        "  #assigning am and pm as equals to 0\n",
        "  am=0\n",
        "  pm=0\n",
        "  for line in fhand:   #taking each line from the text file\n",
        "    #removes spaces from each line at the right side\n",
        "    line=line.rstrip()\n",
        "    full_line=line.rstrip()\n",
        "    #slicing\n",
        "    mem1=line[16:]\n",
        "    mem2=line[17:]\n",
        "    mem3=line[18:]\n",
        "    if mem1.startswith(\"- \") or mem2.startswith(\"- \") or mem3.startswith(\"- \"):\n",
        "      #finding index to slice\n",
        "      a=line.find(\", \")\n",
        "      b=line.find(\"- \")\n",
        "      sub_line=line[a+2:b-1]  #slicing to make a sub_line\n",
        "      #checking : is present in that sub_line\n",
        "      if y in sub_line:\n",
        "        c=sub_line.find(\":\")\n",
        "        am_pm=sub_line[-2:] #extracting time from the sub_line\n",
        "        #incrementing with 1 in am, if AM is present in am_pm\n",
        "        if \"AM\" in am_pm:\n",
        "          am+=1\n",
        "        #incrementing with 1 in pm, if PM is present in am_pm\n",
        "        else:\n",
        "          pm+=1\n",
        "  fhand.close() #closing file\n",
        "  #printing the This group experience most conversation by checking with counts of am or pm is greater\n",
        "  if am>pm:\n",
        "    print(\"This group experience most conversation at AM\")\n",
        "  else:\n",
        "    print(\"This group experience most conversation at PM\")\n",
        "\n",
        "#taking input of the filename\n",
        "fileinput=input(\"Enter a file name: \")\n",
        "#calling the function most_experience with parameters\n",
        "most_experience(fileinput)"
      ],
      "metadata": {
        "colab": {
          "base_uri": "https://localhost:8080/"
        },
        "id": "o18GcXz0SU42",
        "outputId": "83c82cf2-9fa0-4802-e6d6-9cf6fe098d68"
      },
      "execution_count": 5,
      "outputs": [
        {
          "output_type": "stream",
          "name": "stdout",
          "text": [
            "Enter a file name: WhatsApp Chat with PGPDE May 2022\n",
            "This group experience most conversation at PM\n"
          ]
        }
      ]
    },
    {
      "cell_type": "markdown",
      "source": [
        "5.Find the frequency distribution of the hours...?"
      ],
      "metadata": {
        "id": "92oENeYh4Acm"
      }
    },
    {
      "cell_type": "code",
      "source": [
        "def  frequency_distribution_of_the_hours(file):\n",
        "  #reading file\n",
        "  filename='/content/Whatsapp-Data-Analysis/'+file+'.txt'\n",
        "  fhand = open(filename,'r')\n",
        "  y=\":\"\n",
        "  whatsappchat={}  #making a dictionary named whatsappchat\n",
        "  for line in fhand:  #taking each line from the text file\n",
        "    #removes spaces from each line at the right side\n",
        "    line=line.rstrip()\n",
        "    full_line=line.rstrip()\n",
        "    #slicing\n",
        "    mem1=line[16:]\n",
        "    mem2=line[17:]\n",
        "    mem3=line[18:]\n",
        "    if mem1.startswith(\"- \") or mem2.startswith(\"- \") or mem3.startswith(\"- \"):\n",
        "      #finding index to slice\n",
        "      a=line.find(\", \")\n",
        "      b=line.find(\"- \")\n",
        "      sub_line=line[a+2:b-1]  #slicing to make a sub_line\n",
        "      if y in sub_line:\n",
        "        c=sub_line.find(\":\")\n",
        "        times=sub_line[:c]+sub_line[-2:]\n",
        "        if times not in whatsappchat:\n",
        "          whatsappchat[times]=1\n",
        "        else:\n",
        "          whatsappchat[times]+=1\n",
        "  fhand.close()  #closing file\n",
        "  print(whatsappchat)\n",
        "\n",
        "#taking input of the filename\n",
        "fileinput=input(\"Enter a file name: \")\n",
        "#caling the function frequency_distribution_of_the_hours with parameters\n",
        "frequency_distribution_of_the_hours(fileinput)"
      ],
      "metadata": {
        "colab": {
          "base_uri": "https://localhost:8080/"
        },
        "id": "i7YNEKKa4CQm",
        "outputId": "341949dd-f335-4d1b-8c08-3953f16561a4"
      },
      "execution_count": 6,
      "outputs": [
        {
          "output_type": "stream",
          "name": "stdout",
          "text": [
            "Enter a file name: WhatsApp Chat with PGPDE May 2022\n",
            "{'12PM': 38, '1PM': 31, '3PM': 43, '4PM': 20, '5PM': 22, '6PM': 19, '7PM': 5, '8PM': 16, '9AM': 10, '11AM': 3, '9PM': 10, '10PM': 10, '11PM': 12, '6AM': 6, '7AM': 1, '8AM': 11, '10AM': 9, '2PM': 25}\n"
          ]
        }
      ]
    },
    {
      "cell_type": "markdown",
      "source": [
        "6.Design a function named avg_length_by_person(file,person)that will help us to get the average length of the messages posted by a particular person.As shown,this function should take two arguments:\n",
        "\n",
        "*   file: A text file that contains the WhatsApp chat conversation \n",
        "*   person: A person of interest"
      ],
      "metadata": {
        "id": "gYPT10E1E8d-"
      }
    },
    {
      "cell_type": "code",
      "source": [
        "def avg_length_by_person(file,person):\n",
        "  #reading file\n",
        "  filename='/content/Whatsapp-Data-Analysis/'+file+'.txt'\n",
        "  fhand = open(filename,'r')\n",
        "  y=\":\"\n",
        "  whatsappchat={}  #making a dictionary named whatsappchat\n",
        "  for line in fhand:  #taking each line from the text file\n",
        "    #removes spaces from each line at the right side\n",
        "    members=line.rstrip()\n",
        "    mem1=line[16:]\n",
        "    mem2=line[17:]\n",
        "    mem3=line[18:]\n",
        "    if mem1.startswith(\"- \") or mem2.startswith(\"- \") or mem3.startswith(\"- \"):\n",
        "      #finding index to slice\n",
        "      a=line.find(\"- \")\n",
        "      sub_line=line[a+2:]  #slicing to make a sub_line\n",
        "      if y in sub_line:\n",
        "        b=sub_line.find(\":\")  #finding index of : to seperate conversation and person/member from the sub_line\n",
        "        conversation=sub_line[b+1:]  #converations are sliced from the sub_line\n",
        "        members=sub_line[:b]         #members are sliced from the sub_line\n",
        "        #making members as keys and storing their length of conversation\n",
        "        if members not in whatsappchat:\n",
        "          whatsappchat[members]=len([conversation])\n",
        "        else:\n",
        "          whatsappchat[members]+=len([conversation])\n",
        "  fhand.close()  #closing file\n",
        "  total_conversation_length=sum(whatsappchat.values())  #summing all members' conversation length\n",
        "  conversation_length_by_person=whatsappchat[person]  #taking conversation length of input person name\n",
        "  result=(conversation_length_by_person/total_conversation_length)*100        #calculating average of the input person conversation length\n",
        "  #exception handling for checking whether conversations are on that username\n",
        "  try:\n",
        "    print(\"The Average length of messages by {} is {:.2f}%\".format(person,result))\n",
        "  except:\n",
        "    print(\"The username entered is not available in this whatsapp group\")\n",
        "\n",
        "#taking inputs\n",
        "fileinput=input(\"Enter a file name: \")\n",
        "person_name=input(\"Enter a person name: \")\n",
        "#caling the function avg_length_by_person with parameters\n",
        "avg_length_by_person(fileinput,person_name)"
      ],
      "metadata": {
        "colab": {
          "base_uri": "https://localhost:8080/"
        },
        "id": "lzs-uWndFb2v",
        "outputId": "b2e2f0ab-8fb2-4b5a-c2c2-372a92dcacaa"
      },
      "execution_count": 7,
      "outputs": [
        {
          "output_type": "stream",
          "name": "stdout",
          "text": [
            "Enter a file name: WhatsApp Chat with PGPDE May 2022\n",
            "Enter a person name: Praxis Praveena\n",
            "The Average length of messages by Praxis Praveena is 34.43%\n"
          ]
        }
      ]
    }
  ]
}